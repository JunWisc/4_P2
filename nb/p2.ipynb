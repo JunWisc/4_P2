{
 "cells": [
  {
   "cell_type": "code",
   "execution_count": 1,
   "id": "3fda2b10-1a9b-48a1-8537-fcc9b2256a8e",
   "metadata": {},
   "outputs": [],
   "source": [
    "import torch\n",
    "import numpy as np\n",
    "import pandas as pd"
   ]
  },
  {
   "cell_type": "code",
   "execution_count": 2,
   "id": "fd47d376-8ca9-47ca-bf1e-bcddeaf490cf",
   "metadata": {},
   "outputs": [],
   "source": [
    "train_df = pd.read_csv(\"train.csv\")\n",
    "test_df = pd.read_csv(\"test.csv\")"
   ]
  },
  {
   "cell_type": "code",
   "execution_count": 3,
   "id": "d82d617c-4ba6-476a-a224-d1601b38753e",
   "metadata": {},
   "outputs": [],
   "source": [
    "# source from Microsoft Bing Chat\n",
    "trainX = torch.tensor(train_df.iloc[:, :-1].values, dtype=torch.float64)\n",
    "trainY = torch.tensor(train_df.iloc[:, -1].values, dtype=torch.float64).view(-1, 1)\n",
    "testX = torch.tensor(test_df.iloc[:, :-1].values, dtype=torch.float64)\n",
    "testY = torch.tensor(test_df.iloc[:, -1].values, dtype=torch.float64).view(-1, 1)"
   ]
  },
  {
   "cell_type": "code",
   "execution_count": 4,
   "id": "9022494a-7c24-436b-b16b-52f2531d8faa",
   "metadata": {},
   "outputs": [
    {
     "data": {
      "text/plain": [
       "83520"
      ]
     },
     "execution_count": 4,
     "metadata": {},
     "output_type": "execute_result"
    }
   ],
   "source": [
    "#q1\n",
    "\n",
    "num_bytes = trainX.numel() * 8\n",
    "num_bytes"
   ]
  },
  {
   "cell_type": "code",
   "execution_count": 5,
   "id": "b50adccb-a7b5-4d54-a8b6-6318c2a1d41d",
   "metadata": {},
   "outputs": [
    {
     "data": {
      "text/plain": [
       "0.0"
      ]
     },
     "execution_count": 5,
     "metadata": {},
     "output_type": "execute_result"
    }
   ],
   "source": [
    "#q2\n",
    "\n",
    "# source from Microsoft Bing Chat\n",
    "trainX_float16 = trainX.float().half()\n",
    "trainX_converted = trainX_float16.float().double()\n",
    "difference = torch.abs(trainX - trainX_converted)\n",
    "max_difference = torch.max(difference).item()\n",
    "max_difference"
   ]
  },
  {
   "cell_type": "code",
   "execution_count": 6,
   "id": "3d838774-cd0b-49fc-8a91-c001042e30d2",
   "metadata": {},
   "outputs": [
    {
     "data": {
      "text/plain": [
       "False"
      ]
     },
     "execution_count": 6,
     "metadata": {},
     "output_type": "execute_result"
    }
   ],
   "source": [
    "#q3\n",
    "\n",
    "cuda_available = torch.cuda.is_available()\n",
    "cuda_available"
   ]
  },
  {
   "cell_type": "code",
   "execution_count": 7,
   "id": "7846ac10-564b-4df1-9ee4-8678e28e16cc",
   "metadata": {},
   "outputs": [
    {
     "data": {
      "text/plain": [
       "tensor([[0.0040],\n",
       "        [0.0040],\n",
       "        [0.0040],\n",
       "        [0.0040],\n",
       "        [0.0040],\n",
       "        [0.0040],\n",
       "        [0.0300],\n",
       "        [0.0300],\n",
       "        [0.0300],\n",
       "        [0.0300]], dtype=torch.float64)"
      ]
     },
     "execution_count": 7,
     "metadata": {},
     "output_type": "execute_result"
    }
   ],
   "source": [
    "coef = torch.tensor([\n",
    "        [0.0040],\n",
    "        [0.0040],\n",
    "        [0.0040],\n",
    "        [0.0040],\n",
    "        [0.0040],\n",
    "        [0.0040], # POS_50_59_CP\n",
    "        [0.0300], # POS_60_69_CP\n",
    "        [0.0300],\n",
    "        [0.0300],\n",
    "        [0.0300]\n",
    "], dtype=trainX.dtype)\n",
    "coef"
   ]
  },
  {
   "cell_type": "code",
   "execution_count": 8,
   "id": "bd3fe8c7-d189-4278-ac7e-11d133d4de60",
   "metadata": {},
   "outputs": [
    {
     "data": {
      "text/plain": [
       "9.844"
      ]
     },
     "execution_count": 8,
     "metadata": {},
     "output_type": "execute_result"
    }
   ],
   "source": [
    "#q4\n",
    "\n",
    "predicted_deaths = torch.matmul(testX[0], coef).item()\n",
    "predicted_deaths"
   ]
  },
  {
   "cell_type": "code",
   "execution_count": 9,
   "id": "18e5e49e-5abb-4a3b-84a9-4c4c4f1b88c1",
   "metadata": {
    "scrolled": true
   },
   "outputs": [
    {
     "data": {
      "text/plain": [
       "12.073632183908048"
      ]
     },
     "execution_count": 9,
     "metadata": {},
     "output_type": "execute_result"
    }
   ],
   "source": [
    "#q5\n",
    "\n",
    "predicted_deaths = torch.matmul(testX, coef)\n",
    "average_predicted = torch.mean(predicted_deaths).item()\n",
    "average_predicted"
   ]
  },
  {
   "cell_type": "code",
   "execution_count": 10,
   "id": "00e07a06-1b2e-4a8c-be3f-2b38d061353f",
   "metadata": {
    "scrolled": true
   },
   "outputs": [
    {
     "data": {
      "text/plain": [
       "19.0"
      ]
     },
     "execution_count": 10,
     "metadata": {},
     "output_type": "execute_result"
    }
   ],
   "source": [
    "#q6\n",
    "\n",
    "x = torch.tensor(0.0)\n",
    "y = x**2 - 8*x + 19\n",
    "float(y)"
   ]
  },
  {
   "cell_type": "code",
   "execution_count": 11,
   "id": "badb2dc9-1b68-4985-938b-cd0945787bdd",
   "metadata": {},
   "outputs": [
    {
     "data": {
      "text/plain": [
       "4.015500545501709"
      ]
     },
     "execution_count": 11,
     "metadata": {},
     "output_type": "execute_result"
    }
   ],
   "source": [
    "#q7\n",
    "\n",
    "from torch.optim import SGD\n",
    "\n",
    "# Define the initial value of x\n",
    "x = torch.tensor([0.0], requires_grad=True)\n",
    "\n",
    "# Define the optimizer\n",
    "optimizer = SGD([x], lr=0.016)\n",
    "\n",
    "# Optimization loop\n",
    "for i in range(35000):\n",
    "    y = x**2 - 8*x + 19  # Calculate y\n",
    "    loss = (y - 3)**2  # source from Microsoft Bing Chat  # goal is to find an x s.t. y is close to 3\n",
    "    loss.backward()  # Compute the gradients\n",
    "    optimizer.step()  # Update x\n",
    "    optimizer.zero_grad()\n",
    "\n",
    "x.item()"
   ]
  },
  {
   "cell_type": "code",
   "execution_count": 12,
   "id": "06d3d25c-522e-4585-84c3-40d486d12c96",
   "metadata": {},
   "outputs": [
    {
     "data": {
      "text/plain": [
       "197.8007662835249"
      ]
     },
     "execution_count": 12,
     "metadata": {},
     "output_type": "execute_result"
    }
   ],
   "source": [
    "#q8\n",
    "\n",
    "# Initialize coef with zeros\n",
    "coef = torch.zeros((trainX.size(1), 1), dtype=trainX.dtype)\n",
    "\n",
    "# Compute predictions\n",
    "predictions = trainX @ coef\n",
    "\n",
    "# Compute MSE\n",
    "mse = torch.mean((predictions - trainY)**2).item()\n",
    "mse"
   ]
  },
  {
   "cell_type": "code",
   "execution_count": 13,
   "id": "1bf5cbfa-1b9d-41a4-ad14-159c304ba5da",
   "metadata": {},
   "outputs": [
    {
     "data": {
      "text/plain": [
       "26.8113940147193"
      ]
     },
     "execution_count": 13,
     "metadata": {},
     "output_type": "execute_result"
    }
   ],
   "source": [
    "#q9\n",
    "\n",
    "from torch.utils.data import TensorDataset, DataLoader\n",
    "\n",
    "# Seed 544\n",
    "torch.manual_seed(544)\n",
    "\n",
    "# Setup a training dataset and data loader\n",
    "ds = TensorDataset(trainX, trainY)\n",
    "dl = DataLoader(ds, batch_size=50, shuffle=True)\n",
    "\n",
    "# Initialize coef with zeros\n",
    "# trainX.size(1) = 10\n",
    "coef = torch.zeros((10,1), dtype=torch.float64, requires_grad=True)\n",
    "\n",
    "# Define the optimizer and loss function\n",
    "optimizer = SGD([coef], lr=0.000002)\n",
    "loss_fn = torch.nn.MSELoss()\n",
    "\n",
    "# Training loop\n",
    "for epoch in range(500):\n",
    "    for X, y in dl:   # source from Microsoft Bing Chat # iterates over the dl \n",
    "        predictions = X @ coef  \n",
    "        loss = loss_fn(predictions, y) \n",
    "        loss.backward()  \n",
    "        optimizer.step()  \n",
    "        optimizer.zero_grad()\n",
    "\n",
    "# Compute MSE over the training data using the optimized coefficients\n",
    "predictions = trainX @ coef.detach()\n",
    "mse = loss_fn(predictions, trainY).item()\n",
    "mse"
   ]
  },
  {
   "cell_type": "code",
   "execution_count": 14,
   "id": "c4405e2f-7f28-4459-8ec4-2cb84285c46a",
   "metadata": {},
   "outputs": [
    {
     "data": {
      "text/plain": [
       "29.05854692548551"
      ]
     },
     "execution_count": 14,
     "metadata": {},
     "output_type": "execute_result"
    }
   ],
   "source": [
    "#q10\n",
    "\n",
    "# Compute MSE over the test data using the optimized coefficients\n",
    "test_predictions = testX @ coef.detach()\n",
    "test_mse = loss_fn(test_predictions, testY).item()\n",
    "test_mse"
   ]
  },
  {
   "cell_type": "code",
   "execution_count": null,
   "id": "fa5bf15f-9e06-4a76-b59e-ffa413da2646",
   "metadata": {},
   "outputs": [],
   "source": []
  }
 ],
 "metadata": {
  "kernelspec": {
   "display_name": "Python 3 (ipykernel)",
   "language": "python",
   "name": "python3"
  },
  "language_info": {
   "codemirror_mode": {
    "name": "ipython",
    "version": 3
   },
   "file_extension": ".py",
   "mimetype": "text/x-python",
   "name": "python",
   "nbconvert_exporter": "python",
   "pygments_lexer": "ipython3",
   "version": "3.11.5"
  }
 },
 "nbformat": 4,
 "nbformat_minor": 5
}
